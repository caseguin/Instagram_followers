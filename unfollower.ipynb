{
 "cells": [
  {
   "cell_type": "code",
   "execution_count": null,
   "metadata": {},
   "outputs": [],
   "source": [
    "# Extract followees that dont follow back\n",
    "import instaloader\n",
    "import pandas as pd\n",
    "\n",
    "# Creating an instance of the Instaloader class\n",
    "bot = instaloader.Instaloader()\n",
    "user = \"enter_user_name\"\n",
    "# Load a session created from a user session file\n",
    "try:\n",
    "    bot.load_session_from_file(user)\n",
    "except FileNotFoundError:\n",
    "    # If the session file doesn't exist, perform a login and save the session\n",
    "    bot.context.log(\"Session file does not exist yet - Logging in.\")\n",
    "    bot.interactive_login(user)\n",
    "    bot.save_session_to_file()\n",
    "\n",
    "# Load the profile\n",
    "profile = instaloader.Profile.from_username(bot.context, user)\n",
    "\n",
    "# Get followers and followees\n",
    "followers = set(f.username for f in profile.get_followers())\n",
    "followees = set(f.username for f in profile.get_followees())\n",
    "\n",
    "# Find followees that are not followers\n",
    "non_followers = followees - followers\n",
    "\n",
    "# Create a DataFrame\n",
    "data = {'Followees_Not_Followers': list(non_followers)}\n",
    "df = pd.DataFrame(data)\n",
    "\n",
    "# Print the DataFrame\n",
    "print(df)"
   ]
  },
  {
   "cell_type": "code",
   "execution_count": null,
   "metadata": {},
   "outputs": [],
   "source": [
    "# Create a folder for user if dont exist\n",
    "import os\n",
    "\n",
    "# get the program file path\n",
    "cwd = os.getcwd()\n",
    "\n",
    "# Loop to create folders\n",
    "folder_names = [user]\n",
    "folders = {}\n",
    "\n",
    "for folder_name in folder_names:\n",
    "    folders[folder_name] = os.path.join(cwd, folder_name)\n",
    "\n",
    "    if not os.path.exists(os.path.join(cwd, folder_name)):\n",
    "        os.makedirs(os.path.join(cwd, folder_name))\n",
    "        print(f'Le dossier « {folder_name} » a été créé')\n",
    "\n",
    "    else:\n",
    "        print(f'Le dossier « {folder_name} » est existant')\n",
    "\n",
    "# Define path for user files\n",
    "path = cwd + '\\\\' + user + '\\\\'\n",
    "print(path)"
   ]
  },
  {
   "cell_type": "code",
   "execution_count": null,
   "metadata": {},
   "outputs": [],
   "source": [
    "# Determine current date\n",
    "import datetime\n",
    "now = datetime.date.today()\n",
    "print(\"Timestamp: \", now)"
   ]
  },
  {
   "cell_type": "code",
   "execution_count": 22,
   "metadata": {},
   "outputs": [],
   "source": [
    "# Store data\n",
    "import pandas as pd\n",
    "df.to_excel(path + f'unfollowers_{user}_{now}.xlsx')"
   ]
  }
 ],
 "metadata": {
  "kernelspec": {
   "display_name": "Python 3",
   "language": "python",
   "name": "python3"
  },
  "language_info": {
   "codemirror_mode": {
    "name": "ipython",
    "version": 3
   },
   "file_extension": ".py",
   "mimetype": "text/x-python",
   "name": "python",
   "nbconvert_exporter": "python",
   "pygments_lexer": "ipython3",
   "version": "3.10.11"
  },
  "orig_nbformat": 4,
  "vscode": {
   "interpreter": {
    "hash": "916dbcbb3f70747c44a77c7bcd40155683ae19c65e1c03b4aa3499c5328201f1"
   }
  }
 },
 "nbformat": 4,
 "nbformat_minor": 2
}
